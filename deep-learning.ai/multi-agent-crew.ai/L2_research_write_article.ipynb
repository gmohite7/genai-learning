{
 "cells": [
  {
   "cell_type": "markdown",
   "metadata": {},
   "source": [
    "You can download the `requirements.txt` for this course from the workspace of this lab. `File --> Open...`"
   ]
  },
  {
   "cell_type": "markdown",
   "metadata": {},
   "source": [
    "# L2: Create Agents to Research and Write an Article\n",
    "\n",
    "In this lesson, you will be introduced to the foundational concepts of multi-agent systems and get an overview of the crewAI framework."
   ]
  },
  {
   "cell_type": "markdown",
   "metadata": {},
   "source": [
    "The libraries are already installed in the classroom. If you're running this notebook on your own machine, you can install the following:\n",
    "```Python\n",
    "!pip install crewai==0.28.8 crewai_tools==0.1.6 langchain_community==0.0.29\n",
    "```"
   ]
  },
  {
   "cell_type": "code",
   "execution_count": 27,
   "metadata": {
    "height": 64
   },
   "outputs": [],
   "source": [
    "# Warning control\n",
    "import warnings\n",
    "warnings.filterwarnings('ignore')"
   ]
  },
  {
   "cell_type": "markdown",
   "metadata": {},
   "source": [
    "- Import from the crewAI libray."
   ]
  },
  {
   "cell_type": "code",
   "execution_count": 28,
   "metadata": {
    "height": 30
   },
   "outputs": [],
   "source": [
    "from crewai import Agent, Task, Crew"
   ]
  },
  {
   "cell_type": "markdown",
   "metadata": {},
   "source": [
    "- As a LLM for your agents, you'll be using OpenAI's `gpt-3.5-turbo`.\n",
    "\n",
    "**Optional Note:** crewAI also allow other popular models to be used as a LLM for your Agents. You can see some of the examples at the [bottom of the notebook](#1)."
   ]
  },
  {
   "cell_type": "code",
   "execution_count": 29,
   "metadata": {},
   "outputs": [],
   "source": [
    "from dotenv import load_dotenv\n",
    "_ = load_dotenv()"
   ]
  },
  {
   "cell_type": "code",
   "execution_count": 30,
   "metadata": {
    "height": 98
   },
   "outputs": [],
   "source": [
    "import os\n",
    "\n",
    "\n",
    "api_key = os.getenv(\"OPENAI_API_KEY\")\n",
    "os.environ[\"OPENAI_API_KEY\"] = api_key\n",
    "os.environ[\"OPENAI_MODEL_NAME\"] = 'gpt-3.5-turbo'"
   ]
  },
  {
   "cell_type": "markdown",
   "metadata": {},
   "source": [
    "## Creating Agents\n",
    "\n",
    "- Define your Agents, and provide them a `role`, `goal` and `backstory`.\n",
    "- It has been seen that LLMs perform better when they are role playing."
   ]
  },
  {
   "cell_type": "markdown",
   "metadata": {},
   "source": [
    "### Agent: Planner\n",
    "\n",
    "**Note**: The benefit of using _multiple strings_ :\n",
    "```Python\n",
    "varname = \"line 1 of text\"\n",
    "          \"line 2 of text\"\n",
    "```\n",
    "\n",
    "versus the _triple quote docstring_:\n",
    "```Python\n",
    "varname = \"\"\"line 1 of text\n",
    "             line 2 of text\n",
    "          \"\"\"\n",
    "```\n",
    "is that it can avoid adding those whitespaces and newline characters, making it better formatted to be passed to the LLM."
   ]
  },
  {
   "cell_type": "code",
   "execution_count": 18,
   "metadata": {
    "height": 234
   },
   "outputs": [],
   "source": [
    "planner = Agent(\n",
    "    role=\"Content Planner\",\n",
    "    goal=\"Plan engaging and factually accurate content on {topic}\",\n",
    "    backstory=\"You're working on planning a blog article \"\n",
    "              \"about the topic: {topic}.\"\n",
    "              \"You collect information that helps the \"\n",
    "              \"audience learn something \"\n",
    "              \"and make informed decisions. \"\n",
    "              \"Your work is the basis for \"\n",
    "              \"the Content Writer to write an article on this topic.\",\n",
    "    allow_delegation=False,\n",
    "\tverbose=True\n",
    ")"
   ]
  },
  {
   "cell_type": "markdown",
   "metadata": {},
   "source": [
    "### Agent: Writer"
   ]
  },
  {
   "cell_type": "code",
   "execution_count": 19,
   "metadata": {
    "height": 370
   },
   "outputs": [],
   "source": [
    "writer = Agent(\n",
    "    role=\"Content Writer\",\n",
    "    goal=\"Write insightful and factually accurate \"\n",
    "         \"opinion piece about the topic: {topic}\",\n",
    "    backstory=\"You're working on a writing \"\n",
    "              \"a new opinion piece about the topic: {topic}. \"\n",
    "              \"You base your writing on the work of \"\n",
    "              \"the Content Planner, who provides an outline \"\n",
    "              \"and relevant context about the topic. \"\n",
    "              \"You follow the main objectives and \"\n",
    "              \"direction of the outline, \"\n",
    "              \"as provide by the Content Planner. \"\n",
    "              \"You also provide objective and impartial insights \"\n",
    "              \"and back them up with information \"\n",
    "              \"provide by the Content Planner. \"\n",
    "              \"You acknowledge in your opinion piece \"\n",
    "              \"when your statements are opinions \"\n",
    "              \"as opposed to objective statements.\",\n",
    "    allow_delegation=False,\n",
    "    verbose=True\n",
    ")"
   ]
  },
  {
   "cell_type": "markdown",
   "metadata": {},
   "source": [
    "### Agent: Editor"
   ]
  },
  {
   "cell_type": "code",
   "execution_count": 20,
   "metadata": {
    "height": 268
   },
   "outputs": [],
   "source": [
    "editor = Agent(\n",
    "    role=\"Editor\",\n",
    "    goal=\"Edit a given blog post to align with \"\n",
    "         \"the writing style of the organization. \",\n",
    "    backstory=\"You are an editor who receives a blog post \"\n",
    "              \"from the Content Writer. \"\n",
    "              \"Your goal is to review the blog post \"\n",
    "              \"to ensure that it follows journalistic best practices,\"\n",
    "              \"provides balanced viewpoints \"\n",
    "              \"when providing opinions or assertions, \"\n",
    "              \"and also avoids major controversial topics \"\n",
    "              \"or opinions when possible.\",\n",
    "    allow_delegation=False,\n",
    "    verbose=True\n",
    ")"
   ]
  },
  {
   "cell_type": "markdown",
   "metadata": {},
   "source": [
    "## Creating Tasks\n",
    "\n",
    "- Define your Tasks, and provide them a `description`, `expected_output` and `agent`."
   ]
  },
  {
   "cell_type": "markdown",
   "metadata": {},
   "source": [
    "### Task: Plan"
   ]
  },
  {
   "cell_type": "code",
   "execution_count": 21,
   "metadata": {
    "height": 268
   },
   "outputs": [],
   "source": [
    "plan = Task(\n",
    "    description=(\n",
    "        \"1. Prioritize the latest trends, key players, \"\n",
    "            \"and noteworthy news on {topic}.\\n\"\n",
    "        \"2. Identify the target audience, considering \"\n",
    "            \"their interests and pain points.\\n\"\n",
    "        \"3. Develop a detailed content outline including \"\n",
    "            \"an introduction, key points, and a call to action.\\n\"\n",
    "        \"4. Include SEO keywords and relevant data or sources.\"\n",
    "    ),\n",
    "    expected_output=\"A comprehensive content plan document \"\n",
    "        \"with an outline, audience analysis, \"\n",
    "        \"SEO keywords, and resources.\",\n",
    "    agent=planner,\n",
    ")"
   ]
  },
  {
   "cell_type": "markdown",
   "metadata": {},
   "source": [
    "### Task: Write"
   ]
  },
  {
   "cell_type": "code",
   "execution_count": 22,
   "metadata": {
    "height": 319
   },
   "outputs": [],
   "source": [
    "write = Task(\n",
    "    description=(\n",
    "        \"1. Use the content plan to craft a compelling \"\n",
    "            \"blog post on {topic}.\\n\"\n",
    "        \"2. Incorporate SEO keywords naturally.\\n\"\n",
    "\t\t\"3. Sections/Subtitles are properly named \"\n",
    "            \"in an engaging manner.\\n\"\n",
    "        \"4. Ensure the post is structured with an \"\n",
    "            \"engaging introduction, insightful body, \"\n",
    "            \"and a summarizing conclusion.\\n\"\n",
    "        \"5. Proofread for grammatical errors and \"\n",
    "            \"alignment with the brand's voice.\\n\"\n",
    "    ),\n",
    "    expected_output=\"A well-written blog post \"\n",
    "        \"in markdown format, ready for publication, \"\n",
    "        \"each section should have 2 or 3 paragraphs.\",\n",
    "    agent=writer,\n",
    ")"
   ]
  },
  {
   "cell_type": "markdown",
   "metadata": {},
   "source": [
    "### Task: Edit"
   ]
  },
  {
   "cell_type": "code",
   "execution_count": 23,
   "metadata": {
    "height": 166
   },
   "outputs": [],
   "source": [
    "edit = Task(\n",
    "    description=(\"Proofread the given blog post for \"\n",
    "                 \"grammatical errors and \"\n",
    "                 \"alignment with the brand's voice.\"),\n",
    "    expected_output=\"A well-written blog post in markdown format, \"\n",
    "                    \"ready for publication, \"\n",
    "                    \"each section should have 2 or 3 paragraphs.\",\n",
    "    agent=editor\n",
    ")"
   ]
  },
  {
   "cell_type": "markdown",
   "metadata": {},
   "source": [
    "## Creating the Crew\n",
    "\n",
    "- Create your crew of Agents\n",
    "- Pass the tasks to be performed by those agents.\n",
    "    - **Note**: *For this simple example*, the tasks will be performed sequentially (i.e they are dependent on each other), so the _order_ of the task in the list _matters_.\n",
    "- `verbose=2` allows you to see all the logs of the execution. "
   ]
  },
  {
   "cell_type": "code",
   "execution_count": 24,
   "metadata": {
    "height": 98
   },
   "outputs": [
    {
     "name": "stderr",
     "output_type": "stream",
     "text": [
      "2025-01-24 17:04:26,215 - 8661208896 - __init__.py-__init__:537 - WARNING: Overriding of current TracerProvider is not allowed\n"
     ]
    }
   ],
   "source": [
    "crew = Crew(\n",
    "    agents=[planner, writer, editor],\n",
    "    tasks=[plan, write, edit],\n",
    "    verbose=True\n",
    ")"
   ]
  },
  {
   "cell_type": "markdown",
   "metadata": {},
   "source": [
    "## Running the Crew"
   ]
  },
  {
   "cell_type": "markdown",
   "metadata": {},
   "source": [
    "**Note**: LLMs can provide different outputs for they same input, so what you get might be different than what you see in the video."
   ]
  },
  {
   "cell_type": "code",
   "execution_count": 26,
   "metadata": {
    "height": 30
   },
   "outputs": [
    {
     "name": "stdout",
     "output_type": "stream",
     "text": [
      "\u001b[1m\u001b[95m [DEBUG]: == Working Agent: Content Planner\u001b[00m\n",
      "\u001b[1m\u001b[95m [INFO]: == Starting Task: 1. Prioritize the latest trends, key players, and noteworthy news on Artificial Intelligence.\n",
      "2. Identify the target audience, considering their interests and pain points.\n",
      "3. Develop a detailed content outline including an introduction, key points, and a call to action.\n",
      "4. Include SEO keywords and relevant data or sources.\u001b[00m\n",
      "\n",
      "\n",
      "\u001b[1m> Entering new CrewAgentExecutor chain...\u001b[0m\n",
      "\u001b[32;1m\u001b[1;3mI now can give a great answer\n",
      "\n",
      "Final Answer:\n",
      "\n",
      "Title: Unveiling the Latest Trends and Key Players in Artificial Intelligence\n",
      "\n",
      "Introduction:\n",
      "- Brief overview of Artificial Intelligence (AI) and its impact on various industries\n",
      "- Importance of staying updated on the latest trends in AI\n",
      "\n",
      "Key Points:\n",
      "1. Latest Trends in Artificial Intelligence:\n",
      "- Advancements in machine learning algorithms\n",
      "- Increased adoption of AI in healthcare, finance, and marketing\n",
      "- Emergence of explainable AI for better transparency\n",
      "- Growth of AI-powered virtual assistants and chatbots\n",
      "\n",
      "2. Key Players in the AI Industry:\n",
      "- Google with its AI research division DeepMind\n",
      "- IBM's Watson for cognitive computing\n",
      "- Microsoft Azure for AI solutions\n",
      "- Tesla's use of AI in autonomous vehicles\n",
      "\n",
      "3. Noteworthy News in Artificial Intelligence:\n",
      "- Recent breakthroughs in natural language processing\n",
      "- Ethical considerations in AI development\n",
      "- Impact of AI on job automation and workforce transformation\n",
      "- Regulations and policies in the AI industry\n",
      "\n",
      "Target Audience:\n",
      "- Tech enthusiasts interested in AI innovations and applications\n",
      "- Business professionals seeking to leverage AI for growth and efficiency\n",
      "- Students and researchers studying AI technologies\n",
      "- Decision-makers looking to implement AI solutions in their organizations\n",
      "\n",
      "Call to Action:\n",
      "- Encourage readers to stay informed about AI trends through reputable sources\n",
      "- Prompt them to explore AI applications in their respective fields\n",
      "- Invite them to share their thoughts and experiences with AI technologies\n",
      "\n",
      "SEO Keywords:\n",
      "- Artificial Intelligence trends\n",
      "- AI industry players\n",
      "- Latest news in AI\n",
      "- Impact of AI on businesses\n",
      "- Future of artificial intelligence\n",
      "\n",
      "Resources:\n",
      "1. Forbes - \"Top AI Trends to Watch in 2021\"\n",
      "2. TechCrunch - \"Key Players Shaping the AI Landscape\"\n",
      "3. Harvard Business Review - \"Ethical Considerations in AI Development\"\n",
      "4. McKinsey & Company - \"The State of AI Adoption in Businesses\"\n",
      "\n",
      "By following this comprehensive content plan, the article on Artificial Intelligence will provide valuable insights to the target audience while optimizing for SEO and incorporating relevant data and sources.\u001b[0m\n",
      "\n",
      "\u001b[1m> Finished chain.\u001b[0m\n",
      "\u001b[1m\u001b[92m [DEBUG]: == [Content Planner] Task output: Title: Unveiling the Latest Trends and Key Players in Artificial Intelligence\n",
      "\n",
      "Introduction:\n",
      "- Brief overview of Artificial Intelligence (AI) and its impact on various industries\n",
      "- Importance of staying updated on the latest trends in AI\n",
      "\n",
      "Key Points:\n",
      "1. Latest Trends in Artificial Intelligence:\n",
      "- Advancements in machine learning algorithms\n",
      "- Increased adoption of AI in healthcare, finance, and marketing\n",
      "- Emergence of explainable AI for better transparency\n",
      "- Growth of AI-powered virtual assistants and chatbots\n",
      "\n",
      "2. Key Players in the AI Industry:\n",
      "- Google with its AI research division DeepMind\n",
      "- IBM's Watson for cognitive computing\n",
      "- Microsoft Azure for AI solutions\n",
      "- Tesla's use of AI in autonomous vehicles\n",
      "\n",
      "3. Noteworthy News in Artificial Intelligence:\n",
      "- Recent breakthroughs in natural language processing\n",
      "- Ethical considerations in AI development\n",
      "- Impact of AI on job automation and workforce transformation\n",
      "- Regulations and policies in the AI industry\n",
      "\n",
      "Target Audience:\n",
      "- Tech enthusiasts interested in AI innovations and applications\n",
      "- Business professionals seeking to leverage AI for growth and efficiency\n",
      "- Students and researchers studying AI technologies\n",
      "- Decision-makers looking to implement AI solutions in their organizations\n",
      "\n",
      "Call to Action:\n",
      "- Encourage readers to stay informed about AI trends through reputable sources\n",
      "- Prompt them to explore AI applications in their respective fields\n",
      "- Invite them to share their thoughts and experiences with AI technologies\n",
      "\n",
      "SEO Keywords:\n",
      "- Artificial Intelligence trends\n",
      "- AI industry players\n",
      "- Latest news in AI\n",
      "- Impact of AI on businesses\n",
      "- Future of artificial intelligence\n",
      "\n",
      "Resources:\n",
      "1. Forbes - \"Top AI Trends to Watch in 2021\"\n",
      "2. TechCrunch - \"Key Players Shaping the AI Landscape\"\n",
      "3. Harvard Business Review - \"Ethical Considerations in AI Development\"\n",
      "4. McKinsey & Company - \"The State of AI Adoption in Businesses\"\n",
      "\n",
      "By following this comprehensive content plan, the article on Artificial Intelligence will provide valuable insights to the target audience while optimizing for SEO and incorporating relevant data and sources.\n",
      "\n",
      "\u001b[00m\n",
      "\u001b[1m\u001b[95m [DEBUG]: == Working Agent: Content Writer\u001b[00m\n",
      "\u001b[1m\u001b[95m [INFO]: == Starting Task: 1. Use the content plan to craft a compelling blog post on Artificial Intelligence.\n",
      "2. Incorporate SEO keywords naturally.\n",
      "3. Sections/Subtitles are properly named in an engaging manner.\n",
      "4. Ensure the post is structured with an engaging introduction, insightful body, and a summarizing conclusion.\n",
      "5. Proofread for grammatical errors and alignment with the brand's voice.\n",
      "\u001b[00m\n",
      "\n",
      "\n",
      "\u001b[1m> Entering new CrewAgentExecutor chain...\u001b[0m\n",
      "\u001b[32;1m\u001b[1;3mI am confident in my ability to create a compelling and informative blog post on Artificial Intelligence that will resonate with the target audience.\n",
      "\n",
      "Final Answer:\n",
      "\n",
      "# Unveiling the Latest Trends and Key Players in Artificial Intelligence\n",
      "\n",
      "## Introduction\n",
      "Artificial Intelligence (AI) has revolutionized various industries with its ability to analyze data, learn patterns, and make decisions with minimal human intervention. From healthcare and finance to marketing and beyond, AI has become an integral part of modern business operations. Staying updated on the latest trends in AI is crucial for professionals and enthusiasts alike to harness the full potential of this disruptive technology.\n",
      "\n",
      "## Latest Trends in Artificial Intelligence\n",
      "One of the most notable trends in AI is the advancements in machine learning algorithms, which have significantly improved the accuracy and efficiency of AI systems. Moreover, the increased adoption of AI in healthcare, finance, and marketing has led to enhanced decision-making processes and personalized customer experiences. The emergence of explainable AI is another trend worth noting, as it promotes transparency and accountability in AI systems. Additionally, the growth of AI-powered virtual assistants and chatbots has transformed the way businesses interact with their customers, providing round-the-clock support and personalized recommendations.\n",
      "\n",
      "## Key Players in the AI Industry\n",
      "Several key players have made significant contributions to the AI industry, shaping its landscape and driving innovation. Google stands out with its AI research division DeepMind, known for its breakthroughs in machine learning and artificial intelligence. IBM's Watson is another prominent player, offering cognitive computing capabilities that empower businesses to analyze complex data and make informed decisions. Microsoft Azure provides a comprehensive suite of AI solutions, enabling organizations to build, deploy, and manage AI applications at scale. Tesla's use of AI in autonomous vehicles showcases the potential of AI-driven technologies to revolutionize transportation and mobility.\n",
      "\n",
      "## Noteworthy News in Artificial Intelligence\n",
      "Recent breakthroughs in natural language processing have propelled AI to new heights, enabling machines to understand and generate human language with remarkable accuracy. Ethical considerations in AI development have also gained prominence, as stakeholders grapple with the implications of AI on privacy, bias, and accountability. The impact of AI on job automation and workforce transformation is a topic of ongoing debate, with experts weighing the benefits and challenges of AI-driven automation. Regulations and policies in the AI industry play a crucial role in shaping the ethical and legal frameworks for AI applications, ensuring responsible and equitable use of AI technologies.\n",
      "\n",
      "## Conclusion\n",
      "As AI continues to evolve and disrupt traditional industries, staying informed about the latest trends and key players in the AI industry is essential for professionals and enthusiasts alike. By exploring the latest advancements in AI, understanding the key players shaping the AI landscape, and staying informed about noteworthy news in AI, individuals can leverage the full potential of artificial intelligence in their respective fields. Embracing AI technologies responsibly and ethically will pave the way for a future where AI enhances human capabilities and drives innovation across industries.\n",
      "\n",
      "### Call to Action\n",
      "Stay informed about AI trends through reputable sources, explore AI applications in your field, and share your thoughts and experiences with AI technologies to contribute to the ongoing dialogue on the future of artificial intelligence.\n",
      "\n",
      "By incorporating SEO keywords naturally throughout the blog post and structuring it with engaging sections and subtitles, this article on Artificial Intelligence aims to provide valuable insights to tech enthusiasts, business professionals, students, researchers, and decision-makers interested in the latest trends and key players in the AI industry.\u001b[0m\n",
      "\n",
      "\u001b[1m> Finished chain.\u001b[0m\n",
      "\u001b[1m\u001b[92m [DEBUG]: == [Content Writer] Task output: # Unveiling the Latest Trends and Key Players in Artificial Intelligence\n",
      "\n",
      "## Introduction\n",
      "Artificial Intelligence (AI) has revolutionized various industries with its ability to analyze data, learn patterns, and make decisions with minimal human intervention. From healthcare and finance to marketing and beyond, AI has become an integral part of modern business operations. Staying updated on the latest trends in AI is crucial for professionals and enthusiasts alike to harness the full potential of this disruptive technology.\n",
      "\n",
      "## Latest Trends in Artificial Intelligence\n",
      "One of the most notable trends in AI is the advancements in machine learning algorithms, which have significantly improved the accuracy and efficiency of AI systems. Moreover, the increased adoption of AI in healthcare, finance, and marketing has led to enhanced decision-making processes and personalized customer experiences. The emergence of explainable AI is another trend worth noting, as it promotes transparency and accountability in AI systems. Additionally, the growth of AI-powered virtual assistants and chatbots has transformed the way businesses interact with their customers, providing round-the-clock support and personalized recommendations.\n",
      "\n",
      "## Key Players in the AI Industry\n",
      "Several key players have made significant contributions to the AI industry, shaping its landscape and driving innovation. Google stands out with its AI research division DeepMind, known for its breakthroughs in machine learning and artificial intelligence. IBM's Watson is another prominent player, offering cognitive computing capabilities that empower businesses to analyze complex data and make informed decisions. Microsoft Azure provides a comprehensive suite of AI solutions, enabling organizations to build, deploy, and manage AI applications at scale. Tesla's use of AI in autonomous vehicles showcases the potential of AI-driven technologies to revolutionize transportation and mobility.\n",
      "\n",
      "## Noteworthy News in Artificial Intelligence\n",
      "Recent breakthroughs in natural language processing have propelled AI to new heights, enabling machines to understand and generate human language with remarkable accuracy. Ethical considerations in AI development have also gained prominence, as stakeholders grapple with the implications of AI on privacy, bias, and accountability. The impact of AI on job automation and workforce transformation is a topic of ongoing debate, with experts weighing the benefits and challenges of AI-driven automation. Regulations and policies in the AI industry play a crucial role in shaping the ethical and legal frameworks for AI applications, ensuring responsible and equitable use of AI technologies.\n",
      "\n",
      "## Conclusion\n",
      "As AI continues to evolve and disrupt traditional industries, staying informed about the latest trends and key players in the AI industry is essential for professionals and enthusiasts alike. By exploring the latest advancements in AI, understanding the key players shaping the AI landscape, and staying informed about noteworthy news in AI, individuals can leverage the full potential of artificial intelligence in their respective fields. Embracing AI technologies responsibly and ethically will pave the way for a future where AI enhances human capabilities and drives innovation across industries.\n",
      "\n",
      "### Call to Action\n",
      "Stay informed about AI trends through reputable sources, explore AI applications in your field, and share your thoughts and experiences with AI technologies to contribute to the ongoing dialogue on the future of artificial intelligence.\n",
      "\n",
      "By incorporating SEO keywords naturally throughout the blog post and structuring it with engaging sections and subtitles, this article on Artificial Intelligence aims to provide valuable insights to tech enthusiasts, business professionals, students, researchers, and decision-makers interested in the latest trends and key players in the AI industry.\n",
      "\n",
      "\u001b[00m\n",
      "\u001b[1m\u001b[95m [DEBUG]: == Working Agent: Editor\u001b[00m\n",
      "\u001b[1m\u001b[95m [INFO]: == Starting Task: Proofread the given blog post for grammatical errors and alignment with the brand's voice.\u001b[00m\n",
      "\n",
      "\n",
      "\u001b[1m> Entering new CrewAgentExecutor chain...\u001b[0m\n",
      "\u001b[32;1m\u001b[1;3mI now can give a great answer\n",
      "\n",
      "Final Answer: \n",
      "\n",
      "# Unveiling the Latest Trends and Key Players in Artificial Intelligence\n",
      "\n",
      "## Introduction\n",
      "Artificial Intelligence (AI) has revolutionized various industries with its ability to analyze data, learn patterns, and make decisions with minimal human intervention. From healthcare and finance to marketing and beyond, AI has become an integral part of modern business operations. Staying updated on the latest trends in AI is crucial for professionals and enthusiasts alike to harness the full potential of this disruptive technology.\n",
      "\n",
      "## Latest Trends in Artificial Intelligence\n",
      "One of the most notable trends in AI is the advancements in machine learning algorithms, which have significantly improved the accuracy and efficiency of AI systems. Moreover, the increased adoption of AI in healthcare, finance, and marketing has led to enhanced decision-making processes and personalized customer experiences. The emergence of explainable AI is another trend worth noting, as it promotes transparency and accountability in AI systems. Additionally, the growth of AI-powered virtual assistants and chatbots has transformed the way businesses interact with their customers, providing round-the-clock support and personalized recommendations.\n",
      "\n",
      "## Key Players in the AI Industry\n",
      "Several key players have made significant contributions to the AI industry, shaping its landscape and driving innovation. Google stands out with its AI research division DeepMind, known for its breakthroughs in machine learning and artificial intelligence. IBM's Watson is another prominent player, offering cognitive computing capabilities that empower businesses to analyze complex data and make informed decisions. Microsoft Azure provides a comprehensive suite of AI solutions, enabling organizations to build, deploy, and manage AI applications at scale. Tesla's use of AI in autonomous vehicles showcases the potential of AI-driven technologies to revolutionize transportation and mobility.\n",
      "\n",
      "## Noteworthy News in Artificial Intelligence\n",
      "Recent breakthroughs in natural language processing have propelled AI to new heights, enabling machines to understand and generate human language with remarkable accuracy. Ethical considerations in AI development have also gained prominence, as stakeholders grapple with the implications of AI on privacy, bias, and accountability. The impact of AI on job automation and workforce transformation is a topic of ongoing debate, with experts weighing the benefits and challenges of AI-driven automation. Regulations and policies in the AI industry play a crucial role in shaping the ethical and legal frameworks for AI applications, ensuring responsible and equitable use of AI technologies.\n",
      "\n",
      "## Conclusion\n",
      "As AI continues to evolve and disrupt traditional industries, staying informed about the latest trends and key players in the AI industry is essential for professionals and enthusiasts alike. By exploring the latest advancements in AI, understanding the key players shaping the AI landscape, and staying informed about noteworthy news in AI, individuals can leverage the full potential of artificial intelligence in their respective fields. Embracing AI technologies responsibly and ethically will pave the way for a future where AI enhances human capabilities and drives innovation across industries.\n",
      "\n",
      "### Call to Action\n",
      "Stay informed about AI trends through reputable sources, explore AI applications in your field, and share your thoughts and experiences with AI technologies to contribute to the ongoing dialogue on the future of artificial intelligence.\n",
      "\n",
      "By incorporating SEO keywords naturally throughout the blog post and structuring it with engaging sections and subtitles, this article on Artificial Intelligence aims to provide valuable insights to tech enthusiasts, business professionals, students, researchers, and decision-makers interested in the latest trends and key players in the AI industry.\u001b[0m\n",
      "\n",
      "\u001b[1m> Finished chain.\u001b[0m\n",
      "\u001b[1m\u001b[92m [DEBUG]: == [Editor] Task output: # Unveiling the Latest Trends and Key Players in Artificial Intelligence\n",
      "\n",
      "## Introduction\n",
      "Artificial Intelligence (AI) has revolutionized various industries with its ability to analyze data, learn patterns, and make decisions with minimal human intervention. From healthcare and finance to marketing and beyond, AI has become an integral part of modern business operations. Staying updated on the latest trends in AI is crucial for professionals and enthusiasts alike to harness the full potential of this disruptive technology.\n",
      "\n",
      "## Latest Trends in Artificial Intelligence\n",
      "One of the most notable trends in AI is the advancements in machine learning algorithms, which have significantly improved the accuracy and efficiency of AI systems. Moreover, the increased adoption of AI in healthcare, finance, and marketing has led to enhanced decision-making processes and personalized customer experiences. The emergence of explainable AI is another trend worth noting, as it promotes transparency and accountability in AI systems. Additionally, the growth of AI-powered virtual assistants and chatbots has transformed the way businesses interact with their customers, providing round-the-clock support and personalized recommendations.\n",
      "\n",
      "## Key Players in the AI Industry\n",
      "Several key players have made significant contributions to the AI industry, shaping its landscape and driving innovation. Google stands out with its AI research division DeepMind, known for its breakthroughs in machine learning and artificial intelligence. IBM's Watson is another prominent player, offering cognitive computing capabilities that empower businesses to analyze complex data and make informed decisions. Microsoft Azure provides a comprehensive suite of AI solutions, enabling organizations to build, deploy, and manage AI applications at scale. Tesla's use of AI in autonomous vehicles showcases the potential of AI-driven technologies to revolutionize transportation and mobility.\n",
      "\n",
      "## Noteworthy News in Artificial Intelligence\n",
      "Recent breakthroughs in natural language processing have propelled AI to new heights, enabling machines to understand and generate human language with remarkable accuracy. Ethical considerations in AI development have also gained prominence, as stakeholders grapple with the implications of AI on privacy, bias, and accountability. The impact of AI on job automation and workforce transformation is a topic of ongoing debate, with experts weighing the benefits and challenges of AI-driven automation. Regulations and policies in the AI industry play a crucial role in shaping the ethical and legal frameworks for AI applications, ensuring responsible and equitable use of AI technologies.\n",
      "\n",
      "## Conclusion\n",
      "As AI continues to evolve and disrupt traditional industries, staying informed about the latest trends and key players in the AI industry is essential for professionals and enthusiasts alike. By exploring the latest advancements in AI, understanding the key players shaping the AI landscape, and staying informed about noteworthy news in AI, individuals can leverage the full potential of artificial intelligence in their respective fields. Embracing AI technologies responsibly and ethically will pave the way for a future where AI enhances human capabilities and drives innovation across industries.\n",
      "\n",
      "### Call to Action\n",
      "Stay informed about AI trends through reputable sources, explore AI applications in your field, and share your thoughts and experiences with AI technologies to contribute to the ongoing dialogue on the future of artificial intelligence.\n",
      "\n",
      "By incorporating SEO keywords naturally throughout the blog post and structuring it with engaging sections and subtitles, this article on Artificial Intelligence aims to provide valuable insights to tech enthusiasts, business professionals, students, researchers, and decision-makers interested in the latest trends and key players in the AI industry.\n",
      "\n",
      "\u001b[00m\n"
     ]
    }
   ],
   "source": [
    "result = crew.kickoff(inputs={\"topic\": \"Artificial Intelligence\"})"
   ]
  },
  {
   "cell_type": "markdown",
   "metadata": {},
   "source": [
    "- Display the results of your execution as markdown in the notebook."
   ]
  },
  {
   "cell_type": "code",
   "execution_count": 15,
   "metadata": {
    "height": 47
   },
   "outputs": [
    {
     "data": {
      "text/markdown": [
       "# Unleashing the Power of Artificial Intelligence: The Latest Trends, Key Players, and Noteworthy News\n",
       "\n",
       "## Introduction\n",
       "Artificial Intelligence (AI) has become a transformative force across various industries, revolutionizing the way we work and interact with technology. With rapid advancements in AI technology, the potential for shaping the future is limitless. From healthcare to finance, marketing, and beyond, AI is driving innovation and efficiency like never before.\n",
       "\n",
       "## Latest Trends in Artificial Intelligence:\n",
       "The integration of AI in healthcare, finance, marketing, and other sectors has paved the way for enhanced decision-making and personalized experiences. The rise of autonomous vehicles and smart home devices powered by AI is reshaping the way we commute and interact with our living spaces. Moreover, the growing adoption of AI-powered chatbots and virtual assistants is streamlining customer service and communication processes.\n",
       "\n",
       "## Key Players in the AI Industry:\n",
       "Leading companies such as Google, Microsoft, IBM, and Amazon are at the forefront of AI research and development, investing heavily in cutting-edge technologies. Alongside these tech giants, startups and research institutions are also making significant contributions to the field, pushing the boundaries of what AI can achieve.\n",
       "\n",
       "## Noteworthy News in Artificial Intelligence:\n",
       "Recent breakthroughs in natural language processing, image recognition, and machine learning have unlocked new possibilities for AI applications. However, the impact of AI on job automation and the ethical considerations surrounding its use have sparked debates and discussions about the implications of AI-driven decisions.\n",
       "\n",
       "## Conclusion\n",
       "As we witness the transformative potential of AI unfold before us, it is crucial to prioritize responsible AI development and ethical considerations. By staying informed about the latest trends, key players, and noteworthy news in the AI industry, we can better prepare ourselves for the future of artificial intelligence.\n",
       "\n",
       "*Call to action: Explore AI further through additional resources or courses to deepen your understanding of this dynamic and evolving field.*\n",
       "\n",
       "By following the content plan and incorporating SEO keywords naturally, this blog post aims to provide valuable insights and actionable information for a diverse audience interested in the world of artificial intelligence."
      ],
      "text/plain": [
       "<IPython.core.display.Markdown object>"
      ]
     },
     "execution_count": 15,
     "metadata": {},
     "output_type": "execute_result"
    }
   ],
   "source": [
    "from IPython.display import Markdown\n",
    "Markdown(result)"
   ]
  },
  {
   "cell_type": "markdown",
   "metadata": {},
   "source": [
    "## Try it Yourself\n",
    "\n",
    "- Pass in a topic of your choice and see what the agents come up with!"
   ]
  },
  {
   "cell_type": "code",
   "execution_count": null,
   "metadata": {
    "height": 47
   },
   "outputs": [],
   "source": [
    "topic = \"YOUR TOPIC HERE\"\n",
    "result = crew.kickoff(inputs={\"topic\": topic})"
   ]
  },
  {
   "cell_type": "code",
   "execution_count": null,
   "metadata": {
    "height": 30
   },
   "outputs": [],
   "source": [
    "Markdown(result)"
   ]
  },
  {
   "cell_type": "markdown",
   "metadata": {},
   "source": [
    "<a name='1'></a>\n",
    " ## Other Popular Models as LLM for your Agents"
   ]
  },
  {
   "cell_type": "markdown",
   "metadata": {},
   "source": [
    "#### Hugging Face (HuggingFaceHub endpoint)\n",
    "\n",
    "```Python\n",
    "from langchain_community.llms import HuggingFaceHub\n",
    "\n",
    "llm = HuggingFaceHub(\n",
    "    repo_id=\"HuggingFaceH4/zephyr-7b-beta\",\n",
    "    huggingfacehub_api_token=\"<HF_TOKEN_HERE>\",\n",
    "    task=\"text-generation\",\n",
    ")\n",
    "\n",
    "### you will pass \"llm\" to your agent function\n",
    "```"
   ]
  },
  {
   "cell_type": "markdown",
   "metadata": {},
   "source": [
    "#### Mistral API\n",
    "\n",
    "```Python\n",
    "OPENAI_API_KEY=your-mistral-api-key\n",
    "OPENAI_API_BASE=https://api.mistral.ai/v1\n",
    "OPENAI_MODEL_NAME=\"mistral-small\"\n",
    "```"
   ]
  },
  {
   "cell_type": "markdown",
   "metadata": {},
   "source": [
    "#### Cohere\n",
    "\n",
    "```Python\n",
    "from langchain_community.chat_models import ChatCohere\n",
    "# Initialize language model\n",
    "os.environ[\"COHERE_API_KEY\"] = \"your-cohere-api-key\"\n",
    "llm = ChatCohere()\n",
    "\n",
    "### you will pass \"llm\" to your agent function\n",
    "```"
   ]
  },
  {
   "cell_type": "markdown",
   "metadata": {},
   "source": [
    "### For using Llama locally with Ollama and more, checkout the crewAI documentation on [Connecting to any LLM](https://docs.crewai.com/how-to/LLM-Connections/)."
   ]
  },
  {
   "cell_type": "code",
   "execution_count": null,
   "metadata": {
    "height": 30
   },
   "outputs": [],
   "source": []
  },
  {
   "cell_type": "code",
   "execution_count": null,
   "metadata": {
    "height": 30
   },
   "outputs": [],
   "source": []
  },
  {
   "cell_type": "code",
   "execution_count": null,
   "metadata": {
    "height": 30
   },
   "outputs": [],
   "source": []
  }
 ],
 "metadata": {
  "colab": {
   "gpuType": "T4",
   "provenance": []
  },
  "kernelspec": {
   "display_name": "Python 3 (ipykernel)",
   "language": "python",
   "name": "python3"
  },
  "language_info": {
   "codemirror_mode": {
    "name": "ipython",
    "version": 3
   },
   "file_extension": ".py",
   "mimetype": "text/x-python",
   "name": "python",
   "nbconvert_exporter": "python",
   "pygments_lexer": "ipython3",
   "version": "3.11.6"
  }
 },
 "nbformat": 4,
 "nbformat_minor": 4
}
