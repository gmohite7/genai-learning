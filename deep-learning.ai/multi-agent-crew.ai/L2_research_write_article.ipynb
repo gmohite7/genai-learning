{
 "cells": [
  {
   "cell_type": "markdown",
   "metadata": {},
   "source": [
    "You can download the `requirements.txt` for this course from the workspace of this lab. `File --> Open...`"
   ]
  },
  {
   "cell_type": "markdown",
   "metadata": {},
   "source": [
    "# L2: Create Agents to Research and Write an Article\n",
    "\n",
    "In this lesson, you will be introduced to the foundational concepts of multi-agent systems and get an overview of the crewAI framework."
   ]
  },
  {
   "cell_type": "markdown",
   "metadata": {},
   "source": [
    "The libraries are already installed in the classroom. If you're running this notebook on your own machine, you can install the following:\n",
    "```Python\n",
    "!pip install crewai==0.28.8 crewai_tools==0.1.6 langchain_community==0.0.29\n",
    "```"
   ]
  },
  {
   "cell_type": "code",
   "execution_count": 8,
   "metadata": {
    "height": 64
   },
   "outputs": [],
   "source": [
    "# Warning control\n",
    "import warnings\n",
    "warnings.filterwarnings('ignore')"
   ]
  },
  {
   "cell_type": "markdown",
   "metadata": {},
   "source": [
    "- Import from the crewAI libray."
   ]
  },
  {
   "cell_type": "code",
   "execution_count": 9,
   "metadata": {
    "height": 30
   },
   "outputs": [],
   "source": [
    "from crewai import Agent, Task, Crew"
   ]
  },
  {
   "cell_type": "markdown",
   "metadata": {},
   "source": [
    "- As a LLM for your agents, you'll be using OpenAI's `gpt-3.5-turbo`.\n",
    "\n",
    "**Optional Note:** crewAI also allow other popular models to be used as a LLM for your Agents. You can see some of the examples at the [bottom of the notebook](#1)."
   ]
  },
  {
   "cell_type": "code",
   "execution_count": null,
   "metadata": {},
   "outputs": [],
   "source": [
    "import os\n",
    "print(os.environ[\"OPENAI_API_KEY\"])"
   ]
  },
  {
   "cell_type": "code",
   "execution_count": 3,
   "metadata": {},
   "outputs": [],
   "source": [
    "from dotenv import load_dotenv\n",
    "_ = load_dotenv()"
   ]
  },
  {
   "cell_type": "code",
   "execution_count": 4,
   "metadata": {
    "height": 98
   },
   "outputs": [],
   "source": [
    "import os\n",
    "\n",
    "\n",
    "api_key = os.getenv(\"API_KEY\")\n",
    "os.environ[\"OPENAI_API_KEY\"] = api_key\n",
    "os.environ[\"OPENAI_MODEL_NAME\"] = 'gpt-3.5-turbo'"
   ]
  },
  {
   "cell_type": "markdown",
   "metadata": {},
   "source": [
    "## Creating Agents\n",
    "\n",
    "- Define your Agents, and provide them a `role`, `goal` and `backstory`.\n",
    "- It has been seen that LLMs perform better when they are role playing."
   ]
  },
  {
   "cell_type": "markdown",
   "metadata": {},
   "source": [
    "### Agent: Planner\n",
    "\n",
    "**Note**: The benefit of using _multiple strings_ :\n",
    "```Python\n",
    "varname = \"line 1 of text\"\n",
    "          \"line 2 of text\"\n",
    "```\n",
    "\n",
    "versus the _triple quote docstring_:\n",
    "```Python\n",
    "varname = \"\"\"line 1 of text\n",
    "             line 2 of text\n",
    "          \"\"\"\n",
    "```\n",
    "is that it can avoid adding those whitespaces and newline characters, making it better formatted to be passed to the LLM."
   ]
  },
  {
   "cell_type": "code",
   "execution_count": 5,
   "metadata": {
    "height": 234
   },
   "outputs": [],
   "source": [
    "planner = Agent(\n",
    "    role=\"Content Planner\",\n",
    "    goal=\"Plan engaging and factually accurate content on {topic}\",\n",
    "    backstory=\"You're working on planning a blog article \"\n",
    "              \"about the topic: {topic}.\"\n",
    "              \"You collect information that helps the \"\n",
    "              \"audience learn something \"\n",
    "              \"and make informed decisions. \"\n",
    "              \"Your work is the basis for \"\n",
    "              \"the Content Writer to write an article on this topic.\",\n",
    "    allow_delegation=False,\n",
    "\tverbose=True\n",
    ")"
   ]
  },
  {
   "cell_type": "markdown",
   "metadata": {},
   "source": [
    "### Agent: Writer"
   ]
  },
  {
   "cell_type": "code",
   "execution_count": 6,
   "metadata": {
    "height": 370
   },
   "outputs": [],
   "source": [
    "writer = Agent(\n",
    "    role=\"Content Writer\",\n",
    "    goal=\"Write insightful and factually accurate \"\n",
    "         \"opinion piece about the topic: {topic}\",\n",
    "    backstory=\"You're working on a writing \"\n",
    "              \"a new opinion piece about the topic: {topic}. \"\n",
    "              \"You base your writing on the work of \"\n",
    "              \"the Content Planner, who provides an outline \"\n",
    "              \"and relevant context about the topic. \"\n",
    "              \"You follow the main objectives and \"\n",
    "              \"direction of the outline, \"\n",
    "              \"as provide by the Content Planner. \"\n",
    "              \"You also provide objective and impartial insights \"\n",
    "              \"and back them up with information \"\n",
    "              \"provide by the Content Planner. \"\n",
    "              \"You acknowledge in your opinion piece \"\n",
    "              \"when your statements are opinions \"\n",
    "              \"as opposed to objective statements.\",\n",
    "    allow_delegation=False,\n",
    "    verbose=True\n",
    ")"
   ]
  },
  {
   "cell_type": "markdown",
   "metadata": {},
   "source": [
    "### Agent: Editor"
   ]
  },
  {
   "cell_type": "code",
   "execution_count": 7,
   "metadata": {
    "height": 268
   },
   "outputs": [],
   "source": [
    "editor = Agent(\n",
    "    role=\"Editor\",\n",
    "    goal=\"Edit a given blog post to align with \"\n",
    "         \"the writing style of the organization. \",\n",
    "    backstory=\"You are an editor who receives a blog post \"\n",
    "              \"from the Content Writer. \"\n",
    "              \"Your goal is to review the blog post \"\n",
    "              \"to ensure that it follows journalistic best practices,\"\n",
    "              \"provides balanced viewpoints \"\n",
    "              \"when providing opinions or assertions, \"\n",
    "              \"and also avoids major controversial topics \"\n",
    "              \"or opinions when possible.\",\n",
    "    allow_delegation=False,\n",
    "    verbose=True\n",
    ")"
   ]
  },
  {
   "cell_type": "markdown",
   "metadata": {},
   "source": [
    "## Creating Tasks\n",
    "\n",
    "- Define your Tasks, and provide them a `description`, `expected_output` and `agent`."
   ]
  },
  {
   "cell_type": "markdown",
   "metadata": {},
   "source": [
    "### Task: Plan"
   ]
  },
  {
   "cell_type": "code",
   "execution_count": 15,
   "metadata": {
    "height": 268
   },
   "outputs": [],
   "source": [
    "plan = Task(\n",
    "    description=(\n",
    "        \"1. Prioritize the latest trends, key players, \"\n",
    "            \"and noteworthy news on {topic}.\\n\"\n",
    "        \"2. Identify the target audience, considering \"\n",
    "            \"their interests and pain points.\\n\"\n",
    "        \"3. Develop a detailed content outline including \"\n",
    "            \"an introduction, key points, and a call to action.\\n\"\n",
    "        \"4. Include SEO keywords and relevant data or sources.\"\n",
    "    ),\n",
    "    expected_output=\"A comprehensive content plan document \"\n",
    "        \"with an outline, audience analysis, \"\n",
    "        \"SEO keywords, and resources.\",\n",
    "    agent=planner,\n",
    ")"
   ]
  },
  {
   "cell_type": "markdown",
   "metadata": {},
   "source": [
    "### Task: Write"
   ]
  },
  {
   "cell_type": "code",
   "execution_count": 16,
   "metadata": {
    "height": 319
   },
   "outputs": [],
   "source": [
    "write = Task(\n",
    "    description=(\n",
    "        \"1. Use the content plan to craft a compelling \"\n",
    "            \"blog post on {topic}.\\n\"\n",
    "        \"2. Incorporate SEO keywords naturally.\\n\"\n",
    "\t\t\"3. Sections/Subtitles are properly named \"\n",
    "            \"in an engaging manner.\\n\"\n",
    "        \"4. Ensure the post is structured with an \"\n",
    "            \"engaging introduction, insightful body, \"\n",
    "            \"and a summarizing conclusion.\\n\"\n",
    "        \"5. Proofread for grammatical errors and \"\n",
    "            \"alignment with the brand's voice.\\n\"\n",
    "    ),\n",
    "    expected_output=\"A well-written blog post \"\n",
    "        \"in markdown format, ready for publication, \"\n",
    "        \"each section should have 2 or 3 paragraphs.\",\n",
    "    agent=writer,\n",
    ")"
   ]
  },
  {
   "cell_type": "markdown",
   "metadata": {},
   "source": [
    "### Task: Edit"
   ]
  },
  {
   "cell_type": "code",
   "execution_count": 17,
   "metadata": {
    "height": 166
   },
   "outputs": [],
   "source": [
    "edit = Task(\n",
    "    description=(\"Proofread the given blog post for \"\n",
    "                 \"grammatical errors and \"\n",
    "                 \"alignment with the brand's voice.\"),\n",
    "    expected_output=\"A well-written blog post in markdown format, \"\n",
    "                    \"ready for publication, \"\n",
    "                    \"each section should have 2 or 3 paragraphs.\",\n",
    "    agent=editor\n",
    ")"
   ]
  },
  {
   "cell_type": "markdown",
   "metadata": {},
   "source": [
    "## Creating the Crew\n",
    "\n",
    "- Create your crew of Agents\n",
    "- Pass the tasks to be performed by those agents.\n",
    "    - **Note**: *For this simple example*, the tasks will be performed sequentially (i.e they are dependent on each other), so the _order_ of the task in the list _matters_.\n",
    "- `verbose=2` allows you to see all the logs of the execution. "
   ]
  },
  {
   "cell_type": "code",
   "execution_count": 18,
   "metadata": {
    "height": 98
   },
   "outputs": [],
   "source": [
    "crew = Crew(\n",
    "    agents=[planner, writer, editor],\n",
    "    tasks=[plan, write, edit],\n",
    "    verbose=2\n",
    ")"
   ]
  },
  {
   "cell_type": "markdown",
   "metadata": {},
   "source": [
    "## Running the Crew"
   ]
  },
  {
   "cell_type": "markdown",
   "metadata": {},
   "source": [
    "**Note**: LLMs can provide different outputs for they same input, so what you get might be different than what you see in the video."
   ]
  },
  {
   "cell_type": "code",
   "execution_count": 19,
   "metadata": {
    "height": 30
   },
   "outputs": [
    {
     "name": "stdout",
     "output_type": "stream",
     "text": [
      "\u001b[1m\u001b[95m [DEBUG]: == Working Agent: Content Planner\u001b[00m\n",
      "\u001b[1m\u001b[95m [INFO]: == Starting Task: 1. Prioritize the latest trends, key players, and noteworthy news on Artificial Intelligence.\n",
      "2. Identify the target audience, considering their interests and pain points.\n",
      "3. Develop a detailed content outline including an introduction, key points, and a call to action.\n",
      "4. Include SEO keywords and relevant data or sources.\u001b[00m\n",
      "\n",
      "\n",
      "\u001b[1m> Entering new CrewAgentExecutor chain...\u001b[0m\n",
      "\u001b[32;1m\u001b[1;3mI now can give a great answer\n",
      "\n",
      "Final Answer:\n",
      "\n",
      "Content Plan: \n",
      "Title: The Future of Artificial Intelligence: Latest Trends and Key Players\n",
      "\n",
      "Introduction:\n",
      "- Brief overview of Artificial Intelligence and its impact on various industries\n",
      "- Importance of staying updated on the latest trends in AI\n",
      "\n",
      "Key Points:\n",
      "1. Latest Trends in Artificial Intelligence:\n",
      "- Machine learning advancements\n",
      "- Natural language processing innovations\n",
      "- AI ethics and regulation developments\n",
      "\n",
      "2. Key Players in the AI Industry:\n",
      "- Google\n",
      "- Microsoft\n",
      "- IBM\n",
      "- Amazon\n",
      "\n",
      "3. Noteworthy News in Artificial Intelligence:\n",
      "- Recent breakthroughs in AI research\n",
      "- AI applications in healthcare, finance, and other sectors\n",
      "- Updates on AI-powered technologies such as self-driving cars and virtual assistants\n",
      "\n",
      "Audience Analysis:\n",
      "Target Audience: \n",
      "- Tech enthusiasts\n",
      "- Business professionals\n",
      "- Students and researchers in the field of AI\n",
      "\n",
      "Interests:\n",
      "- Staying updated on the latest technology trends\n",
      "- Exploring the potential applications of AI in different industries\n",
      "- Understanding the ethical implications of AI development\n",
      "\n",
      "Pain Points:\n",
      "- Keeping up with the rapid pace of AI advancements\n",
      "- Sorting through the abundance of information on AI news and trends\n",
      "- Ensuring ethical and responsible use of AI technologies\n",
      "\n",
      "SEO Keywords:\n",
      "- Artificial Intelligence trends\n",
      "- Key players in AI industry\n",
      "- Latest news on AI\n",
      "- Machine learning advancements\n",
      "- AI applications\n",
      "\n",
      "Resources:\n",
      "- Forbes: https://www.forbes.com/artificial-intelligence\n",
      "- TechCrunch: https://techcrunch.com/ai\n",
      "- MIT Technology Review: https://www.technologyreview.com/topic/artificial-intelligence\n",
      "\n",
      "Call to Action:\n",
      "- Stay informed about the latest trends in Artificial Intelligence by following reputable sources and engaging with the AI community\n",
      "- Share your thoughts and insights on AI developments with others in your network\n",
      "- Consider the ethical implications of AI technologies and advocate for responsible AI development\n",
      "\n",
      "Overall, this content plan aims to provide valuable insights into the latest trends and key players in the Artificial Intelligence industry, catering to a diverse audience with varying interests and concerns related to AI. By incorporating SEO keywords and relevant resources, the blog article will offer a comprehensive overview of the current landscape of AI, empowering readers to make informed decisions and stay ahead in the rapidly evolving world of Artificial Intelligence.\u001b[0m\n",
      "\n",
      "\u001b[1m> Finished chain.\u001b[0m\n",
      "\u001b[1m\u001b[92m [DEBUG]: == [Content Planner] Task output: Content Plan: \n",
      "Title: The Future of Artificial Intelligence: Latest Trends and Key Players\n",
      "\n",
      "Introduction:\n",
      "- Brief overview of Artificial Intelligence and its impact on various industries\n",
      "- Importance of staying updated on the latest trends in AI\n",
      "\n",
      "Key Points:\n",
      "1. Latest Trends in Artificial Intelligence:\n",
      "- Machine learning advancements\n",
      "- Natural language processing innovations\n",
      "- AI ethics and regulation developments\n",
      "\n",
      "2. Key Players in the AI Industry:\n",
      "- Google\n",
      "- Microsoft\n",
      "- IBM\n",
      "- Amazon\n",
      "\n",
      "3. Noteworthy News in Artificial Intelligence:\n",
      "- Recent breakthroughs in AI research\n",
      "- AI applications in healthcare, finance, and other sectors\n",
      "- Updates on AI-powered technologies such as self-driving cars and virtual assistants\n",
      "\n",
      "Audience Analysis:\n",
      "Target Audience: \n",
      "- Tech enthusiasts\n",
      "- Business professionals\n",
      "- Students and researchers in the field of AI\n",
      "\n",
      "Interests:\n",
      "- Staying updated on the latest technology trends\n",
      "- Exploring the potential applications of AI in different industries\n",
      "- Understanding the ethical implications of AI development\n",
      "\n",
      "Pain Points:\n",
      "- Keeping up with the rapid pace of AI advancements\n",
      "- Sorting through the abundance of information on AI news and trends\n",
      "- Ensuring ethical and responsible use of AI technologies\n",
      "\n",
      "SEO Keywords:\n",
      "- Artificial Intelligence trends\n",
      "- Key players in AI industry\n",
      "- Latest news on AI\n",
      "- Machine learning advancements\n",
      "- AI applications\n",
      "\n",
      "Resources:\n",
      "- Forbes: https://www.forbes.com/artificial-intelligence\n",
      "- TechCrunch: https://techcrunch.com/ai\n",
      "- MIT Technology Review: https://www.technologyreview.com/topic/artificial-intelligence\n",
      "\n",
      "Call to Action:\n",
      "- Stay informed about the latest trends in Artificial Intelligence by following reputable sources and engaging with the AI community\n",
      "- Share your thoughts and insights on AI developments with others in your network\n",
      "- Consider the ethical implications of AI technologies and advocate for responsible AI development\n",
      "\n",
      "Overall, this content plan aims to provide valuable insights into the latest trends and key players in the Artificial Intelligence industry, catering to a diverse audience with varying interests and concerns related to AI. By incorporating SEO keywords and relevant resources, the blog article will offer a comprehensive overview of the current landscape of AI, empowering readers to make informed decisions and stay ahead in the rapidly evolving world of Artificial Intelligence.\n",
      "\n",
      "\u001b[00m\n",
      "\u001b[1m\u001b[95m [DEBUG]: == Working Agent: Content Writer\u001b[00m\n",
      "\u001b[1m\u001b[95m [INFO]: == Starting Task: 1. Use the content plan to craft a compelling blog post on Artificial Intelligence.\n",
      "2. Incorporate SEO keywords naturally.\n",
      "3. Sections/Subtitles are properly named in an engaging manner.\n",
      "4. Ensure the post is structured with an engaging introduction, insightful body, and a summarizing conclusion.\n",
      "5. Proofread for grammatical errors and alignment with the brand's voice.\n",
      "\u001b[00m\n",
      "\n",
      "\n",
      "\u001b[1m> Entering new CrewAgentExecutor chain...\u001b[0m\n",
      "\u001b[32;1m\u001b[1;3mI can provide a well-researched and engaging blog post on Artificial Intelligence that aligns with the content plan and caters to the target audience's interests and pain points.\n",
      "\n",
      "Final Answer:\n",
      "\n",
      "# The Future of Artificial Intelligence: Latest Trends and Key Players\n",
      "\n",
      "## Introduction\n",
      "\n",
      "Artificial Intelligence (AI) has revolutionized various industries, from healthcare to finance, with its ability to analyze data, automate processes, and make predictions. Staying updated on the latest trends in AI is crucial for tech enthusiasts, business professionals, students, and researchers to understand the evolving landscape of this transformative technology.\n",
      "\n",
      "## Latest Trends in Artificial Intelligence\n",
      "\n",
      "### Machine Learning Advancements\n",
      "Machine learning, a subset of AI, has seen significant advancements in recent years. Algorithms are becoming more sophisticated, enabling machines to learn from data and improve their performance without explicit programming.\n",
      "\n",
      "### Natural Language Processing Innovations\n",
      "Natural Language Processing (NLP) has made tremendous progress, allowing machines to understand and generate human language. Voice assistants and chatbots are examples of NLP applications that are reshaping how we interact with technology.\n",
      "\n",
      "### AI Ethics and Regulation Developments\n",
      "As AI technologies become more pervasive, concerns about ethics and regulation have come to the forefront. Debates on bias in algorithms, data privacy, and the ethical use of AI are shaping the future of AI development.\n",
      "\n",
      "## Key Players in the AI Industry\n",
      "\n",
      "### Google\n",
      "Google is at the forefront of AI research and development, with projects ranging from self-driving cars to healthcare diagnostics. Its AI-powered products like Google Assistant and Google Translate showcase the company's commitment to AI innovation.\n",
      "\n",
      "### Microsoft\n",
      "Microsoft has invested heavily in AI, integrating it into its products and services. Azure AI platform, Cortana, and Microsoft Cognitive Services are some of the offerings that demonstrate Microsoft's expertise in AI technologies.\n",
      "\n",
      "### IBM\n",
      "IBM's Watson platform is a pioneer in AI applications, offering solutions for data analysis, customer service, and healthcare. The company's research in AI ethics and responsible AI practices sets it apart in the industry.\n",
      "\n",
      "### Amazon\n",
      "Amazon's AI initiatives focus on improving customer experience through personalized recommendations, supply chain optimization, and voice-enabled devices like Alexa. The company's investments in AI research continue to drive innovation across its business units.\n",
      "\n",
      "## Noteworthy News in Artificial Intelligence\n",
      "\n",
      "### Recent Breakthroughs in AI Research\n",
      "Researchers are constantly pushing the boundaries of AI, achieving milestones in areas like reinforcement learning, computer vision, and robotics. These breakthroughs have the potential to revolutionize various industries and improve our daily lives.\n",
      "\n",
      "### AI Applications in Healthcare, Finance, and Other Sectors\n",
      "AI is transforming healthcare with predictive analytics, personalized medicine, and medical imaging technologies. In finance, AI-powered tools are enhancing decision-making, risk management, and fraud detection. The applications of AI are diverse and impactful across multiple sectors.\n",
      "\n",
      "### Updates on AI-Powered Technologies\n",
      "Self-driving cars, virtual assistants, and smart home devices are examples of AI-powered technologies that are becoming more prevalent in our society. These innovations are reshaping how we work, communicate, and live, offering convenience and efficiency.\n",
      "\n",
      "## Conclusion\n",
      "\n",
      "Artificial Intelligence is a dynamic field with continuous advancements and new developments. By staying informed about the latest trends and key players in the AI industry, individuals can harness the power of AI to drive innovation, solve complex problems, and create a better future. As we navigate the ethical challenges and opportunities presented by AI technologies, it is essential to advocate for responsible AI development and ensure that AI benefits society as a whole.\n",
      "\n",
      "Stay informed, engage with the AI community, and be a part of shaping the future of Artificial Intelligence. Together, we can unlock the full potential of AI and build a more intelligent and ethical world.\u001b[0m\n",
      "\n",
      "\u001b[1m> Finished chain.\u001b[0m\n",
      "\u001b[1m\u001b[92m [DEBUG]: == [Content Writer] Task output: # The Future of Artificial Intelligence: Latest Trends and Key Players\n",
      "\n",
      "## Introduction\n",
      "\n",
      "Artificial Intelligence (AI) has revolutionized various industries, from healthcare to finance, with its ability to analyze data, automate processes, and make predictions. Staying updated on the latest trends in AI is crucial for tech enthusiasts, business professionals, students, and researchers to understand the evolving landscape of this transformative technology.\n",
      "\n",
      "## Latest Trends in Artificial Intelligence\n",
      "\n",
      "### Machine Learning Advancements\n",
      "Machine learning, a subset of AI, has seen significant advancements in recent years. Algorithms are becoming more sophisticated, enabling machines to learn from data and improve their performance without explicit programming.\n",
      "\n",
      "### Natural Language Processing Innovations\n",
      "Natural Language Processing (NLP) has made tremendous progress, allowing machines to understand and generate human language. Voice assistants and chatbots are examples of NLP applications that are reshaping how we interact with technology.\n",
      "\n",
      "### AI Ethics and Regulation Developments\n",
      "As AI technologies become more pervasive, concerns about ethics and regulation have come to the forefront. Debates on bias in algorithms, data privacy, and the ethical use of AI are shaping the future of AI development.\n",
      "\n",
      "## Key Players in the AI Industry\n",
      "\n",
      "### Google\n",
      "Google is at the forefront of AI research and development, with projects ranging from self-driving cars to healthcare diagnostics. Its AI-powered products like Google Assistant and Google Translate showcase the company's commitment to AI innovation.\n",
      "\n",
      "### Microsoft\n",
      "Microsoft has invested heavily in AI, integrating it into its products and services. Azure AI platform, Cortana, and Microsoft Cognitive Services are some of the offerings that demonstrate Microsoft's expertise in AI technologies.\n",
      "\n",
      "### IBM\n",
      "IBM's Watson platform is a pioneer in AI applications, offering solutions for data analysis, customer service, and healthcare. The company's research in AI ethics and responsible AI practices sets it apart in the industry.\n",
      "\n",
      "### Amazon\n",
      "Amazon's AI initiatives focus on improving customer experience through personalized recommendations, supply chain optimization, and voice-enabled devices like Alexa. The company's investments in AI research continue to drive innovation across its business units.\n",
      "\n",
      "## Noteworthy News in Artificial Intelligence\n",
      "\n",
      "### Recent Breakthroughs in AI Research\n",
      "Researchers are constantly pushing the boundaries of AI, achieving milestones in areas like reinforcement learning, computer vision, and robotics. These breakthroughs have the potential to revolutionize various industries and improve our daily lives.\n",
      "\n",
      "### AI Applications in Healthcare, Finance, and Other Sectors\n",
      "AI is transforming healthcare with predictive analytics, personalized medicine, and medical imaging technologies. In finance, AI-powered tools are enhancing decision-making, risk management, and fraud detection. The applications of AI are diverse and impactful across multiple sectors.\n",
      "\n",
      "### Updates on AI-Powered Technologies\n",
      "Self-driving cars, virtual assistants, and smart home devices are examples of AI-powered technologies that are becoming more prevalent in our society. These innovations are reshaping how we work, communicate, and live, offering convenience and efficiency.\n",
      "\n",
      "## Conclusion\n",
      "\n",
      "Artificial Intelligence is a dynamic field with continuous advancements and new developments. By staying informed about the latest trends and key players in the AI industry, individuals can harness the power of AI to drive innovation, solve complex problems, and create a better future. As we navigate the ethical challenges and opportunities presented by AI technologies, it is essential to advocate for responsible AI development and ensure that AI benefits society as a whole.\n",
      "\n",
      "Stay informed, engage with the AI community, and be a part of shaping the future of Artificial Intelligence. Together, we can unlock the full potential of AI and build a more intelligent and ethical world.\n",
      "\n",
      "\u001b[00m\n",
      "\u001b[1m\u001b[95m [DEBUG]: == Working Agent: Editor\u001b[00m\n",
      "\u001b[1m\u001b[95m [INFO]: == Starting Task: Proofread the given blog post for grammatical errors and alignment with the brand's voice.\u001b[00m\n",
      "\n",
      "\n",
      "\u001b[1m> Entering new CrewAgentExecutor chain...\u001b[0m\n",
      "\u001b[32;1m\u001b[1;3mI now can give a great answer\n",
      "Final Answer: \n",
      "# The Future of Artificial Intelligence: Latest Trends and Key Players\n",
      "\n",
      "## Introduction\n",
      "\n",
      "Artificial Intelligence (AI) has revolutionized various industries, from healthcare to finance, with its ability to analyze data, automate processes, and make predictions. Staying updated on the latest trends in AI is crucial for tech enthusiasts, business professionals, students, and researchers to understand the evolving landscape of this transformative technology.\n",
      "\n",
      "## Latest Trends in Artificial Intelligence\n",
      "\n",
      "### Machine Learning Advancements\n",
      "Machine learning, a subset of AI, has seen significant advancements in recent years. Algorithms are becoming more sophisticated, enabling machines to learn from data and improve their performance without explicit programming. This has led to more efficient data analysis, pattern recognition, and predictive modeling in various applications, from recommendation systems to autonomous vehicles.\n",
      "\n",
      "### Natural Language Processing Innovations\n",
      "Natural Language Processing (NLP) has made tremendous progress, allowing machines to understand and generate human language. Voice assistants and chatbots are examples of NLP applications that are reshaping how we interact with technology. These advancements in NLP have not only improved user experience but also opened up new possibilities for communication and information retrieval in diverse domains.\n",
      "\n",
      "### AI Ethics and Regulation Developments\n",
      "As AI technologies become more pervasive, concerns about ethics and regulation have come to the forefront. Debates on bias in algorithms, data privacy, and the ethical use of AI are shaping the future of AI development. It is crucial for organizations and policymakers to address these ethical considerations and establish guidelines to ensure the responsible and beneficial deployment of AI technologies.\n",
      "\n",
      "## Key Players in the AI Industry\n",
      "\n",
      "### Google\n",
      "Google is at the forefront of AI research and development, with projects ranging from self-driving cars to healthcare diagnostics. Its AI-powered products like Google Assistant and Google Translate showcase the company's commitment to AI innovation. Google's contributions to AI ethics and accessibility have also influenced industry standards and best practices.\n",
      "\n",
      "### Microsoft\n",
      "Microsoft has invested heavily in AI, integrating it into its products and services. Azure AI platform, Cortana, and Microsoft Cognitive Services are some of the offerings that demonstrate Microsoft's expertise in AI technologies. The company's focus on democratizing AI and making it accessible to developers and businesses has contributed to the widespread adoption of AI solutions.\n",
      "\n",
      "### IBM\n",
      "IBM's Watson platform is a pioneer in AI applications, offering solutions for data analysis, customer service, and healthcare. The company's research in AI ethics and responsible AI practices sets it apart in the industry. IBM's collaborative approach to AI development, through partnerships and open-source initiatives, has fostered innovation and knowledge sharing in the AI community.\n",
      "\n",
      "### Amazon\n",
      "Amazon's AI initiatives focus on improving customer experience through personalized recommendations, supply chain optimization, and voice-enabled devices like Alexa. The company's investments in AI research continue to drive innovation across its business units. Amazon's customer-centric approach to AI development and its emphasis on user personalization have positioned the company as a leader in AI-driven customer engagement.\n",
      "\n",
      "## Noteworthy News in Artificial Intelligence\n",
      "\n",
      "### Recent Breakthroughs in AI Research\n",
      "Researchers are constantly pushing the boundaries of AI, achieving milestones in areas like reinforcement learning, computer vision, and robotics. These breakthroughs have the potential to revolutionize various industries and improve our daily lives. From autonomous systems to intelligent assistants, AI technologies are creating new opportunities for innovation and problem-solving.\n",
      "\n",
      "### AI Applications in Healthcare, Finance, and Other Sectors\n",
      "AI is transforming healthcare with predictive analytics, personalized medicine, and medical imaging technologies. In finance, AI-powered tools are enhancing decision-making, risk management, and fraud detection. The applications of AI are diverse and impactful across multiple sectors, driving efficiency, accuracy, and insights that were previously unattainable.\n",
      "\n",
      "### Updates on AI-Powered Technologies\n",
      "Self-driving cars, virtual assistants, and smart home devices are examples of AI-powered technologies that are becoming more prevalent in our society. These innovations are reshaping how we work, communicate, and live, offering convenience and efficiency. As AI continues to evolve, its integration into everyday devices and systems is creating a more connected and intelligent environment for individuals and businesses.\n",
      "\n",
      "## Conclusion\n",
      "\n",
      "Artificial Intelligence is a dynamic field with continuous advancements and new developments. By staying informed about the latest trends and key players in the AI industry, individuals can harness the power of AI to drive innovation, solve complex problems, and create a better future. As we navigate the ethical challenges and opportunities presented by AI technologies, it is essential to advocate for responsible AI development and ensure that AI benefits society as a whole.\n",
      "\n",
      "Stay informed, engage with the AI community, and be a part of shaping the future of Artificial Intelligence. Together, we can unlock the full potential of AI and build a more intelligent and ethical world.\u001b[0m\n",
      "\n",
      "\u001b[1m> Finished chain.\u001b[0m\n",
      "\u001b[1m\u001b[92m [DEBUG]: == [Editor] Task output: # The Future of Artificial Intelligence: Latest Trends and Key Players\n",
      "\n",
      "## Introduction\n",
      "\n",
      "Artificial Intelligence (AI) has revolutionized various industries, from healthcare to finance, with its ability to analyze data, automate processes, and make predictions. Staying updated on the latest trends in AI is crucial for tech enthusiasts, business professionals, students, and researchers to understand the evolving landscape of this transformative technology.\n",
      "\n",
      "## Latest Trends in Artificial Intelligence\n",
      "\n",
      "### Machine Learning Advancements\n",
      "Machine learning, a subset of AI, has seen significant advancements in recent years. Algorithms are becoming more sophisticated, enabling machines to learn from data and improve their performance without explicit programming. This has led to more efficient data analysis, pattern recognition, and predictive modeling in various applications, from recommendation systems to autonomous vehicles.\n",
      "\n",
      "### Natural Language Processing Innovations\n",
      "Natural Language Processing (NLP) has made tremendous progress, allowing machines to understand and generate human language. Voice assistants and chatbots are examples of NLP applications that are reshaping how we interact with technology. These advancements in NLP have not only improved user experience but also opened up new possibilities for communication and information retrieval in diverse domains.\n",
      "\n",
      "### AI Ethics and Regulation Developments\n",
      "As AI technologies become more pervasive, concerns about ethics and regulation have come to the forefront. Debates on bias in algorithms, data privacy, and the ethical use of AI are shaping the future of AI development. It is crucial for organizations and policymakers to address these ethical considerations and establish guidelines to ensure the responsible and beneficial deployment of AI technologies.\n",
      "\n",
      "## Key Players in the AI Industry\n",
      "\n",
      "### Google\n",
      "Google is at the forefront of AI research and development, with projects ranging from self-driving cars to healthcare diagnostics. Its AI-powered products like Google Assistant and Google Translate showcase the company's commitment to AI innovation. Google's contributions to AI ethics and accessibility have also influenced industry standards and best practices.\n",
      "\n",
      "### Microsoft\n",
      "Microsoft has invested heavily in AI, integrating it into its products and services. Azure AI platform, Cortana, and Microsoft Cognitive Services are some of the offerings that demonstrate Microsoft's expertise in AI technologies. The company's focus on democratizing AI and making it accessible to developers and businesses has contributed to the widespread adoption of AI solutions.\n",
      "\n",
      "### IBM\n",
      "IBM's Watson platform is a pioneer in AI applications, offering solutions for data analysis, customer service, and healthcare. The company's research in AI ethics and responsible AI practices sets it apart in the industry. IBM's collaborative approach to AI development, through partnerships and open-source initiatives, has fostered innovation and knowledge sharing in the AI community.\n",
      "\n",
      "### Amazon\n",
      "Amazon's AI initiatives focus on improving customer experience through personalized recommendations, supply chain optimization, and voice-enabled devices like Alexa. The company's investments in AI research continue to drive innovation across its business units. Amazon's customer-centric approach to AI development and its emphasis on user personalization have positioned the company as a leader in AI-driven customer engagement.\n",
      "\n",
      "## Noteworthy News in Artificial Intelligence\n",
      "\n",
      "### Recent Breakthroughs in AI Research\n",
      "Researchers are constantly pushing the boundaries of AI, achieving milestones in areas like reinforcement learning, computer vision, and robotics. These breakthroughs have the potential to revolutionize various industries and improve our daily lives. From autonomous systems to intelligent assistants, AI technologies are creating new opportunities for innovation and problem-solving.\n",
      "\n",
      "### AI Applications in Healthcare, Finance, and Other Sectors\n",
      "AI is transforming healthcare with predictive analytics, personalized medicine, and medical imaging technologies. In finance, AI-powered tools are enhancing decision-making, risk management, and fraud detection. The applications of AI are diverse and impactful across multiple sectors, driving efficiency, accuracy, and insights that were previously unattainable.\n",
      "\n",
      "### Updates on AI-Powered Technologies\n",
      "Self-driving cars, virtual assistants, and smart home devices are examples of AI-powered technologies that are becoming more prevalent in our society. These innovations are reshaping how we work, communicate, and live, offering convenience and efficiency. As AI continues to evolve, its integration into everyday devices and systems is creating a more connected and intelligent environment for individuals and businesses.\n",
      "\n",
      "## Conclusion\n",
      "\n",
      "Artificial Intelligence is a dynamic field with continuous advancements and new developments. By staying informed about the latest trends and key players in the AI industry, individuals can harness the power of AI to drive innovation, solve complex problems, and create a better future. As we navigate the ethical challenges and opportunities presented by AI technologies, it is essential to advocate for responsible AI development and ensure that AI benefits society as a whole.\n",
      "\n",
      "Stay informed, engage with the AI community, and be a part of shaping the future of Artificial Intelligence. Together, we can unlock the full potential of AI and build a more intelligent and ethical world.\n",
      "\n",
      "\u001b[00m\n"
     ]
    }
   ],
   "source": [
    "result = crew.kickoff(inputs={\"topic\": \"Artificial Intelligence\"})"
   ]
  },
  {
   "cell_type": "markdown",
   "metadata": {},
   "source": [
    "- Display the results of your execution as markdown in the notebook."
   ]
  },
  {
   "cell_type": "code",
   "execution_count": 20,
   "metadata": {
    "height": 47
   },
   "outputs": [
    {
     "data": {
      "text/markdown": [
       "# The Future of Artificial Intelligence: Latest Trends and Key Players\n",
       "\n",
       "## Introduction\n",
       "\n",
       "Artificial Intelligence (AI) has revolutionized various industries, from healthcare to finance, with its ability to analyze data, automate processes, and make predictions. Staying updated on the latest trends in AI is crucial for tech enthusiasts, business professionals, students, and researchers to understand the evolving landscape of this transformative technology.\n",
       "\n",
       "## Latest Trends in Artificial Intelligence\n",
       "\n",
       "### Machine Learning Advancements\n",
       "Machine learning, a subset of AI, has seen significant advancements in recent years. Algorithms are becoming more sophisticated, enabling machines to learn from data and improve their performance without explicit programming. This has led to more efficient data analysis, pattern recognition, and predictive modeling in various applications, from recommendation systems to autonomous vehicles.\n",
       "\n",
       "### Natural Language Processing Innovations\n",
       "Natural Language Processing (NLP) has made tremendous progress, allowing machines to understand and generate human language. Voice assistants and chatbots are examples of NLP applications that are reshaping how we interact with technology. These advancements in NLP have not only improved user experience but also opened up new possibilities for communication and information retrieval in diverse domains.\n",
       "\n",
       "### AI Ethics and Regulation Developments\n",
       "As AI technologies become more pervasive, concerns about ethics and regulation have come to the forefront. Debates on bias in algorithms, data privacy, and the ethical use of AI are shaping the future of AI development. It is crucial for organizations and policymakers to address these ethical considerations and establish guidelines to ensure the responsible and beneficial deployment of AI technologies.\n",
       "\n",
       "## Key Players in the AI Industry\n",
       "\n",
       "### Google\n",
       "Google is at the forefront of AI research and development, with projects ranging from self-driving cars to healthcare diagnostics. Its AI-powered products like Google Assistant and Google Translate showcase the company's commitment to AI innovation. Google's contributions to AI ethics and accessibility have also influenced industry standards and best practices.\n",
       "\n",
       "### Microsoft\n",
       "Microsoft has invested heavily in AI, integrating it into its products and services. Azure AI platform, Cortana, and Microsoft Cognitive Services are some of the offerings that demonstrate Microsoft's expertise in AI technologies. The company's focus on democratizing AI and making it accessible to developers and businesses has contributed to the widespread adoption of AI solutions.\n",
       "\n",
       "### IBM\n",
       "IBM's Watson platform is a pioneer in AI applications, offering solutions for data analysis, customer service, and healthcare. The company's research in AI ethics and responsible AI practices sets it apart in the industry. IBM's collaborative approach to AI development, through partnerships and open-source initiatives, has fostered innovation and knowledge sharing in the AI community.\n",
       "\n",
       "### Amazon\n",
       "Amazon's AI initiatives focus on improving customer experience through personalized recommendations, supply chain optimization, and voice-enabled devices like Alexa. The company's investments in AI research continue to drive innovation across its business units. Amazon's customer-centric approach to AI development and its emphasis on user personalization have positioned the company as a leader in AI-driven customer engagement.\n",
       "\n",
       "## Noteworthy News in Artificial Intelligence\n",
       "\n",
       "### Recent Breakthroughs in AI Research\n",
       "Researchers are constantly pushing the boundaries of AI, achieving milestones in areas like reinforcement learning, computer vision, and robotics. These breakthroughs have the potential to revolutionize various industries and improve our daily lives. From autonomous systems to intelligent assistants, AI technologies are creating new opportunities for innovation and problem-solving.\n",
       "\n",
       "### AI Applications in Healthcare, Finance, and Other Sectors\n",
       "AI is transforming healthcare with predictive analytics, personalized medicine, and medical imaging technologies. In finance, AI-powered tools are enhancing decision-making, risk management, and fraud detection. The applications of AI are diverse and impactful across multiple sectors, driving efficiency, accuracy, and insights that were previously unattainable.\n",
       "\n",
       "### Updates on AI-Powered Technologies\n",
       "Self-driving cars, virtual assistants, and smart home devices are examples of AI-powered technologies that are becoming more prevalent in our society. These innovations are reshaping how we work, communicate, and live, offering convenience and efficiency. As AI continues to evolve, its integration into everyday devices and systems is creating a more connected and intelligent environment for individuals and businesses.\n",
       "\n",
       "## Conclusion\n",
       "\n",
       "Artificial Intelligence is a dynamic field with continuous advancements and new developments. By staying informed about the latest trends and key players in the AI industry, individuals can harness the power of AI to drive innovation, solve complex problems, and create a better future. As we navigate the ethical challenges and opportunities presented by AI technologies, it is essential to advocate for responsible AI development and ensure that AI benefits society as a whole.\n",
       "\n",
       "Stay informed, engage with the AI community, and be a part of shaping the future of Artificial Intelligence. Together, we can unlock the full potential of AI and build a more intelligent and ethical world."
      ],
      "text/plain": [
       "<IPython.core.display.Markdown object>"
      ]
     },
     "execution_count": 20,
     "metadata": {},
     "output_type": "execute_result"
    }
   ],
   "source": [
    "from IPython.display import Markdown\n",
    "Markdown(result)"
   ]
  },
  {
   "cell_type": "markdown",
   "metadata": {},
   "source": [
    "## Try it Yourself\n",
    "\n",
    "- Pass in a topic of your choice and see what the agents come up with!"
   ]
  },
  {
   "cell_type": "code",
   "execution_count": null,
   "metadata": {
    "height": 47
   },
   "outputs": [],
   "source": [
    "topic = \"YOUR TOPIC HERE\"\n",
    "result = crew.kickoff(inputs={\"topic\": topic})"
   ]
  },
  {
   "cell_type": "code",
   "execution_count": null,
   "metadata": {
    "height": 30
   },
   "outputs": [],
   "source": [
    "Markdown(result)"
   ]
  },
  {
   "cell_type": "markdown",
   "metadata": {},
   "source": [
    "<a name='1'></a>\n",
    " ## Other Popular Models as LLM for your Agents"
   ]
  },
  {
   "cell_type": "markdown",
   "metadata": {},
   "source": [
    "#### Hugging Face (HuggingFaceHub endpoint)\n",
    "\n",
    "```Python\n",
    "from langchain_community.llms import HuggingFaceHub\n",
    "\n",
    "llm = HuggingFaceHub(\n",
    "    repo_id=\"HuggingFaceH4/zephyr-7b-beta\",\n",
    "    huggingfacehub_api_token=\"<HF_TOKEN_HERE>\",\n",
    "    task=\"text-generation\",\n",
    ")\n",
    "\n",
    "### you will pass \"llm\" to your agent function\n",
    "```"
   ]
  },
  {
   "cell_type": "markdown",
   "metadata": {},
   "source": [
    "#### Mistral API\n",
    "\n",
    "```Python\n",
    "OPENAI_API_KEY=your-mistral-api-key\n",
    "OPENAI_API_BASE=https://api.mistral.ai/v1\n",
    "OPENAI_MODEL_NAME=\"mistral-small\"\n",
    "```"
   ]
  },
  {
   "cell_type": "markdown",
   "metadata": {},
   "source": [
    "#### Cohere\n",
    "\n",
    "```Python\n",
    "from langchain_community.chat_models import ChatCohere\n",
    "# Initialize language model\n",
    "os.environ[\"COHERE_API_KEY\"] = \"your-cohere-api-key\"\n",
    "llm = ChatCohere()\n",
    "\n",
    "### you will pass \"llm\" to your agent function\n",
    "```"
   ]
  },
  {
   "cell_type": "markdown",
   "metadata": {},
   "source": [
    "### For using Llama locally with Ollama and more, checkout the crewAI documentation on [Connecting to any LLM](https://docs.crewai.com/how-to/LLM-Connections/)."
   ]
  },
  {
   "cell_type": "code",
   "execution_count": null,
   "metadata": {
    "height": 30
   },
   "outputs": [],
   "source": []
  },
  {
   "cell_type": "code",
   "execution_count": null,
   "metadata": {
    "height": 30
   },
   "outputs": [],
   "source": []
  },
  {
   "cell_type": "code",
   "execution_count": null,
   "metadata": {
    "height": 30
   },
   "outputs": [],
   "source": []
  }
 ],
 "metadata": {
  "colab": {
   "gpuType": "T4",
   "provenance": []
  },
  "kernelspec": {
   "display_name": "Python 3 (ipykernel)",
   "language": "python",
   "name": "python3"
  },
  "language_info": {
   "codemirror_mode": {
    "name": "ipython",
    "version": 3
   },
   "file_extension": ".py",
   "mimetype": "text/x-python",
   "name": "python",
   "nbconvert_exporter": "python",
   "pygments_lexer": "ipython3",
   "version": "3.11.6"
  }
 },
 "nbformat": 4,
 "nbformat_minor": 4
}
